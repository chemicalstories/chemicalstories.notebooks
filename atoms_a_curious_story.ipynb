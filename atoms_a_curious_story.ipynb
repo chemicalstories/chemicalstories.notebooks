{
 "cells": [
  {
   "cell_type": "markdown",
   "id": "8d2fc74b",
   "metadata": {},
   "source": [
    "# Numbers used in \"Atoms - a curious story\"\n",
    "\n",
    "***\n",
    "\n",
    "This notebook shows how the numbers used in [Atoms - a curious story](http://youtube.com/@chemicalstories) were obtained. \n",
    "\n",
    "*Coder & movie creator*: Stephanie Valleau <br>\n",
    "*Youtube channel*: [@chemical stories](http://youtube.com/@chemicalstories)"
   ]
  },
  {
   "cell_type": "code",
   "execution_count": 1,
   "id": "1cd03f0d",
   "metadata": {},
   "outputs": [],
   "source": [
    "import numpy as np"
   ]
  },
  {
   "cell_type": "markdown",
   "id": "450daf52",
   "metadata": {},
   "source": [
    "## 1. Define constants and parameters "
   ]
  },
  {
   "cell_type": "code",
   "execution_count": 2,
   "id": "0efab95b",
   "metadata": {},
   "outputs": [],
   "source": [
    "# Earth properties\n",
    "g = 9.81 # [m/s^2] gravity acceleration on the surface of earth https://en.wikipedia.org/wiki/Gravity_of_Earth https://en.wikipedia.org/wiki/Standard_gravity\n",
    "r_earth = 6378.1370*10**3 # [m] https://en.wikipedia.org/wiki/Earth_radius\n",
    "m_earth = 5.9722*10**24 # [kg] earth mass  https://en.wikipedia.org/wiki/Earth_mass\n",
    "\n",
    "# Giza pyramid mass\n",
    "m_giza = 5.9E+12 # [kg] https://thenewstack.io/ultimate-logistics-problem-building-great-pyramid/#:~:text=The%20finished%20pyramid%20weighs%205.9,or%20over%2013%20billion%20pounds.\n",
    "\n",
    "# Vesta asteroid properties\n",
    "m_vesta = 2.59076*10**20 # [kg] mass of vesta asteroid - https://en.wikipedia.org/wiki/4_Vesta\n",
    "diam_vesta = 525.4E+3 # [m] https://en.wikipedia.org/wiki/4_Vesta\n",
    "\n",
    "# Electron and proton properties\n",
    "me = 9.109E-31 # [kg] mass of electron - https://en.wikipedia.org/wiki/Electron_mass\n",
    "mp = 1.673E-27 # [kg] mass of proton - https://en.wikipedia.org/wiki/Proton\n",
    "qe = -1.602E-19 # [C] charge of electron - https://en.wikipedia.org/wiki/Elementary_charge\n",
    "qp = 1.602E-19 # [C] charge of proton - https://en.wikipedia.org/wiki/Elementary_charge\n",
    "\n",
    "# Distance between electron and proton in hydrogen atom\n",
    "r_bohr = 5.291E-11 # [m] https://en.wikipedia.org/wiki/Bohr_radius\n",
    "\n",
    "# Properties of a weightlifter\n",
    "mbody = 95  # [kg] weight of weightlifter\n",
    "h = 2.0 # [m] - height to lift from the surface of earth in meters\n",
    "mw = 100 # [kg] test weight to be lifted  "
   ]
  },
  {
   "cell_type": "markdown",
   "id": "aafa32de",
   "metadata": {},
   "source": [
    "## 2. Compute force of attraction between electron and proton in hydrogen"
   ]
  },
  {
   "cell_type": "markdown",
   "id": "7a68eb4b",
   "metadata": {},
   "source": [
    "### 2.1 Define force functions"
   ]
  },
  {
   "cell_type": "code",
   "execution_count": 3,
   "id": "52c020d3",
   "metadata": {},
   "outputs": [],
   "source": [
    "def gravity_force(m1, m2, r):\n",
    "    # Function to compute the force of gravity for objects of mass m1 and m2 at distance r\n",
    "    # https://en.wikipedia.org/wiki/Gravity\n",
    "    G = 6.674*10**-11 # [m^3/kg/s^2] \n",
    "    return G * m1 * m2 / (r**2) # Newtons\n",
    "\n",
    "def coulomb_force(q1, q2, r):\n",
    "    # Function to compute the coulomb force for objects of charge q1 and q2 at distance r\n",
    "    # https://en.wikipedia.org/wiki/Vacuum_permittivity\n",
    "    # https://en.wikipedia.org/wiki/Coulomb%27s_law\n",
    "    eps0 = 8.854E-12 # [F/m]\n",
    "    const = 1/( 4 * np.pi * eps0 ) # [N*m^2/C^2]\n",
    "    return const * q1 * q2 / (r**2) # Newtons\n",
    "\n",
    "def lift_force(m,r):\n",
    "    \n",
    "    # Constants redefined so that function can be used outside this notebook\n",
    "    g = 9.81 # [m/s^2] gravity acceleration on the surface of earth https://en.wikipedia.org/wiki/Gravity_of_Earth https://en.wikipedia.org/wiki/Standard_gravity\n",
    "    r_earth = 6378.1370*10**3 # [m] https://en.wikipedia.org/wiki/Earth_radius\n",
    "    m_earth = 5.9722*10**24 # [kg] earth mass  https://en.wikipedia.org/wiki/Earth_mass\n",
    "    \n",
    "    # Function to compute the force needed to lift an object of mass m from the earth's surface\n",
    "    l_force = gravity_force(m, m_earth, r + r_earth) - g \n",
    "    \n",
    "    return l_force"
   ]
  },
  {
   "cell_type": "markdown",
   "id": "ce0a83dc",
   "metadata": {},
   "source": [
    "### 2.2 Compute forces"
   ]
  },
  {
   "cell_type": "code",
   "execution_count": 4,
   "id": "3be50bc7",
   "metadata": {},
   "outputs": [],
   "source": [
    "# Force between electron and proton in hydrogen\n",
    "F_qp = coulomb_force(qe, qp, r_bohr)\n",
    "\n",
    "# Force needed to lift Giza to a height h from earth's surface\n",
    "F_lift = lift_force(m_giza, h)\n"
   ]
  },
  {
   "cell_type": "code",
   "execution_count": 5,
   "id": "06684555",
   "metadata": {},
   "outputs": [
    {
     "name": "stdout",
     "output_type": "stream",
     "text": [
      "Proton Electron interaction force -8.23948597371862e-08 N\n",
      "Normalized force, |F_qp|/m_p =  4.9249766728742494e+19 N/kg\n"
     ]
    }
   ],
   "source": [
    "# Force normalized by the mass of a proton \n",
    "print (\"Proton Electron interaction force\", F_qp, \"N\")\n",
    "print(\"Normalized force, |F_qp|/m_p = \", np.abs(F_qp/mp), \"N/kg\")"
   ]
  },
  {
   "cell_type": "code",
   "execution_count": 6,
   "id": "e9ea45bd",
   "metadata": {},
   "outputs": [
    {
     "name": "stdout",
     "output_type": "stream",
     "text": [
      "Force needed to lift Giza, i.e.  5.900000e+12 kg by 2.0 meters = 57807554563999.945 N\n",
      "Normalized force |F_lift|/m_weightlifter= 6.085006e+11 N/kg\n"
     ]
    }
   ],
   "source": [
    "# Force normalized by the mass of the weightlifter\n",
    "print(\"Force needed to lift Giza, i.e. \", \"{:e}\".format(m_giza) ,\"kg by\", h, \"meters =\", F_lift , \"N\")\n",
    "print(\"Normalized force |F_lift|/m_weightlifter=\", \"{:e}\".format(np.abs(F_lift) / mbody), \"N/kg\")"
   ]
  },
  {
   "cell_type": "markdown",
   "id": "cb1295f9",
   "metadata": {},
   "source": [
    "### 2.3. Find mass needed by weightlifter to compare to electron proton force"
   ]
  },
  {
   "cell_type": "markdown",
   "id": "e4fbbffe",
   "metadata": {},
   "source": [
    "What would the body builder need to lift to have the same number as the normalized proton electron force?"
   ]
  },
  {
   "cell_type": "code",
   "execution_count": 7,
   "id": "2913a8fd",
   "metadata": {},
   "outputs": [],
   "source": [
    "mw_needed = ( np.abs(F_qp) * (mbody / mp) + g ) / gravity_force(1, m_earth, r_earth + h)"
   ]
  },
  {
   "cell_type": "code",
   "execution_count": 8,
   "id": "e3363ecd",
   "metadata": {},
   "outputs": [
    {
     "name": "stdout",
     "output_type": "stream",
     "text": [
      "Bodybuilder needs to lift a weight of : 4.7752399248949327e+20 kg\n"
     ]
    }
   ],
   "source": [
    "print(\"Bodybuilder needs to lift a weight of :\", mw_needed, \"kg\")"
   ]
  },
  {
   "cell_type": "code",
   "execution_count": 9,
   "id": "4b1dfa93",
   "metadata": {},
   "outputs": [
    {
     "name": "stdout",
     "output_type": "stream",
     "text": [
      "Lift weight  1.8 times the weight of Vesta\n"
     ]
    }
   ],
   "source": [
    "print(\"Lift weight \", round(mw_needed/m_vesta,1), \"times the weight of Vesta\")"
   ]
  },
  {
   "cell_type": "markdown",
   "id": "c8e5c813",
   "metadata": {},
   "source": [
    "### 2.4 Print properties of Vesta respect to size and weight of a human"
   ]
  },
  {
   "cell_type": "code",
   "execution_count": 10,
   "id": "6c4cfa9d",
   "metadata": {},
   "outputs": [
    {
     "name": "stdout",
     "output_type": "stream",
     "text": [
      "Vesta weighs 2727.12 quadrillion times a human of weight 95 kg!\n",
      "Human of height  1.75 [m] fits 300000 times in Vesta's diameter!\n"
     ]
    }
   ],
   "source": [
    "# What size is vesta respect to a human?\n",
    "\n",
    "print(\"Vesta weighs\", round(m_vesta/(mbody*1E15),2), \"quadrillion times a human of weight\", mbody, \"kg!\")\n",
    "print(\"Human of height \", round(diam_vesta/300000.,2), \"[m] fits\", 300000, \"times in Vesta's diameter!\")"
   ]
  },
  {
   "cell_type": "markdown",
   "id": "88fd1823",
   "metadata": {},
   "source": [
    "## 3. Size of Hydrogen atom - number of atoms in an eyelash"
   ]
  },
  {
   "cell_type": "markdown",
   "id": "82f20d75",
   "metadata": {},
   "source": [
    "### 3.1 Define properties of hydrogen atom and eyelash"
   ]
  },
  {
   "cell_type": "code",
   "execution_count": 11,
   "id": "f4ecc414",
   "metadata": {},
   "outputs": [],
   "source": [
    "# Define average size of the hydrogen atom\n",
    "atom_diam  = 2.*r_bohr  # [m] diameter of Hydrogen atom\n",
    "\n",
    "# Define height and mass of an eyelash\n",
    "h_eyelash = 1.0*10**-2 # [m] length of an eyelash\n",
    "m_hair = 5.*10E-8 # [kg] - i.e. 0.05mg mass of 1cm long hair strand - eyelash - https://pubs.acs.org/doi/full/10.1021/es047996o?casa_token=6hBROucV75gAAAAA%3AgZThmlWCBuX9B613qZQO-rf9HdCKSL2JqNSpn89EYlLmSIIY9I9rbqUDVFbsFrLuGPYIf_mWuugMIg\n"
   ]
  },
  {
   "cell_type": "markdown",
   "id": "464d850e",
   "metadata": {},
   "source": [
    "### 3.2 Compute number of atoms in an eyelash if placed one on top of the other"
   ]
  },
  {
   "cell_type": "code",
   "execution_count": 12,
   "id": "1250f49a",
   "metadata": {},
   "outputs": [
    {
     "name": "stdout",
     "output_type": "stream",
     "text": [
      "Number of Hydrogen atoms in an eyelash by size:  94.500094 million \n",
      "\n"
     ]
    }
   ],
   "source": [
    "ratio_1 = h_eyelash / atom_diam\n",
    "\n",
    "print(\"Number of Hydrogen atoms in an eyelash by size: \", int(ratio_1)/1E+6, 'million \\n')"
   ]
  },
  {
   "cell_type": "markdown",
   "id": "7c2cd19e",
   "metadata": {},
   "source": [
    "### 3.3 Compute number of atoms in an eyelash based on its weight and the density of atoms in the human body "
   ]
  },
  {
   "cell_type": "markdown",
   "id": "0aa5ce1d",
   "metadata": {},
   "source": [
    "Define constants - weight of human and of most frequent atoms in human body"
   ]
  },
  {
   "cell_type": "code",
   "execution_count": 13,
   "id": "35f49293",
   "metadata": {},
   "outputs": [],
   "source": [
    "# Define constants\n",
    "amu = 1.660539E-27 # [kg] atomic mass unit constant\n",
    "human = 70 # [kg] weight of an average sized human\n",
    "\n",
    "# Atomic weights of elements most present in human body\n",
    "weights = {'O':15.99, 'C':12.0, 'H':1.01, 'N':14.0, 'Ca':40.07, 'P':30.97, 'K':39.09, 'S':32.06, 'Na':22.99, 'Cl':35.45, 'Mg':24.30, 'Fe': 55.845, 'F':18.998}\n",
    "\n",
    "# Corresponding percents (amount in body) taken from - https://en.wikipedia.org/wiki/Composition_of_the_human_body\n",
    "percents = {'O':65, 'C': 18.5, 'H': 10, 'N': 3.2, 'Ca':1.5, 'P':1.0, 'K':0.4, 'S':0.3, 'Na':0.2, 'Cl':0.2, 'Mg':0.1, 'Fe': 60E-4, 'F':37E-4}"
   ]
  },
  {
   "cell_type": "markdown",
   "id": "9b2bae1c",
   "metadata": {},
   "source": [
    "Compute the total number of atoms in the human body by taking into account all the most frequent atom types and quantities."
   ]
  },
  {
   "cell_type": "code",
   "execution_count": 14,
   "id": "8ca42864",
   "metadata": {},
   "outputs": [
    {
     "name": "stdout",
     "output_type": "stream",
     "text": [
      "Human weighing  70.0 kg is composed of:\n",
      "\n",
      "45.5 kg of O atoms - num atoms =  1.7136173587519192e+27\n",
      "12.95 kg of C atoms - num atoms =  6.498893833066654e+26\n",
      "7.0 kg of H atoms - num atoms =  4.1737610916135846e+27\n",
      "2.24 kg of N atoms - num atoms =  9.635425605782221e+25\n",
      "1.05 kg of Ca atoms - num atoms =  1.5780504252045374e+25\n",
      "0.7 kg of P atoms - num atoms =  1.3611555384338785e+25\n",
      "0.28 kg of K atoms - num atoms =  4.3136338731437407e+24\n",
      "0.21 kg of S atoms - num atoms =  3.9446338451619343e+24\n",
      "0.14 kg of Na atoms - num atoms =  3.667245500243342e+24\n",
      "0.14 kg of Cl atoms - num atoms =  2.37827853457248e+24\n",
      "0.07 kg of Mg atoms - num atoms =  1.7347731286130542e+24\n",
      "0.0042 kg of Fe atoms - num atoms =  4.529141770109826e+22\n",
      "0.00259 kg of F atoms - num atoms =  8.209993262111786e+22\n",
      "\n",
      "Total amount of atoms: 6.679180105598432e+27\n",
      "\n",
      "Atoms sorted by quantity:\n",
      "\n",
      "H 4.1737610916135846e+27\n",
      "O 1.7136173587519192e+27\n",
      "C 6.498893833066654e+26\n",
      "N 9.635425605782221e+25\n",
      "Ca 1.5780504252045374e+25\n",
      "P 1.3611555384338785e+25\n",
      "K 4.3136338731437407e+24\n",
      "S 3.9446338451619343e+24\n",
      "Na 3.667245500243342e+24\n",
      "Cl 2.37827853457248e+24\n",
      "Mg 1.7347731286130542e+24\n",
      "F 8.209993262111786e+22\n",
      "Fe 4.529141770109826e+22\n"
     ]
    }
   ],
   "source": [
    "total = 0\n",
    "list_numbers = []\n",
    "print(\"Human weighing \", 70.0, \"kg is composed of:\\n\")\n",
    "for label, value in weights.items():\n",
    "    total += percents[label]*(1E-2)*human/(value*amu)\n",
    "    print(round(percents[label]*(1E-2)*human,5), \"kg of\", label, \"atoms - num atoms = \", percents[label]*(1E-2)*human/(value*amu))\n",
    "    list_numbers.append(percents[label]*(1E-2)*human/(value*amu))\n",
    "    \n",
    "print(\"\\nTotal amount of atoms:\", total)\n",
    "\n",
    "# Sort by quantity\n",
    "inds = np.argsort(list_numbers)[::-1]\n",
    "\n",
    "names = [ key for key, value in weights.items()]\n",
    "\n",
    "print(\"\\nAtoms sorted by quantity:\\n\")\n",
    "for i in inds:\n",
    "    print( names[i], list_numbers[i])"
   ]
  },
  {
   "cell_type": "code",
   "execution_count": 15,
   "id": "aebfd42c",
   "metadata": {},
   "outputs": [
    {
     "name": "stdout",
     "output_type": "stream",
     "text": [
      "Eyelash percent in human body =  7.142857142857142e-07 %\n",
      "Number of atoms in a 1cm long eyelash of mass  5e-07 [kg] =  4.770842932570309e+19\n",
      "Number of atoms in a 1cm long eyelash of mass  5e-07 [kg] =  47708.42932570308 quadrillion\n"
     ]
    }
   ],
   "source": [
    "print(\"Eyelash percent in human body = \", m_hair/human*100, \"%\") \n",
    "print(\"Number of atoms in a 1cm long eyelash of mass \", m_hair, \"[kg] = \", total*m_hair/human)\n",
    "print(\"Number of atoms in a 1cm long eyelash of mass \", m_hair, \"[kg] = \", total*m_hair/(human*1E+15),\"quadrillion\")"
   ]
  },
  {
   "cell_type": "markdown",
   "id": "eb59c377",
   "metadata": {},
   "source": [
    "Compare to the population of ants on earth"
   ]
  },
  {
   "cell_type": "code",
   "execution_count": 16,
   "id": "5be996fb",
   "metadata": {},
   "outputs": [
    {
     "name": "stdout",
     "output_type": "stream",
     "text": [
      "Number of ant populations in number of atoms in an eyelash: 2385.421466285154\n"
     ]
    }
   ],
   "source": [
    "# Ants on earth \n",
    "nants = 20E+15 # https://www.pnas.org/doi/abs/10.1073/pnas.2201550119\n",
    "print(\"Number of ant populations in number of atoms in an eyelash:\", (total*m_hair/human) / nants)"
   ]
  }
 ],
 "metadata": {
  "kernelspec": {
   "display_name": "Python 3 (ipykernel)",
   "language": "python",
   "name": "python3"
  },
  "language_info": {
   "codemirror_mode": {
    "name": "ipython",
    "version": 3
   },
   "file_extension": ".py",
   "mimetype": "text/x-python",
   "name": "python",
   "nbconvert_exporter": "python",
   "pygments_lexer": "ipython3",
   "version": "3.10.9"
  }
 },
 "nbformat": 4,
 "nbformat_minor": 5
}
